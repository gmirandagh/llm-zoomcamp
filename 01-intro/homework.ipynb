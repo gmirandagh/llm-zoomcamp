{
 "cells": [
  {
   "cell_type": "code",
   "execution_count": 1,
   "id": "076edc82-fd27-49e1-aa8b-4c213c44fd78",
   "metadata": {},
   "outputs": [],
   "source": [
    "import os"
   ]
  },
  {
   "cell_type": "code",
   "execution_count": 2,
   "id": "53866bf7-61a3-4018-b2b3-f00a9ebb5f8a",
   "metadata": {},
   "outputs": [],
   "source": [
    "# os.environ"
   ]
  },
  {
   "cell_type": "code",
   "execution_count": 3,
   "id": "5bd0cd15-52d3-474a-91d1-5fd28c1a170c",
   "metadata": {},
   "outputs": [],
   "source": [
    "import requests \n",
    "\n",
    "docs_url = 'https://github.com/DataTalksClub/llm-zoomcamp/blob/main/01-intro/documents.json?raw=1'\n",
    "docs_response = requests.get(docs_url)\n",
    "documents_raw = docs_response.json()\n",
    "\n",
    "documents = []\n",
    "\n",
    "for course in documents_raw:\n",
    "    course_name = course['course']\n",
    "\n",
    "    for doc in course['documents']:\n",
    "        doc['course'] = course_name\n",
    "        documents.append(doc)"
   ]
  },
  {
   "cell_type": "code",
   "execution_count": 4,
   "id": "79eb1c6f-3198-4f61-aa13-7802fffc57fc",
   "metadata": {},
   "outputs": [
    {
     "name": "stdout",
     "output_type": "stream",
     "text": [
      "Index 'course-questions' already exists\n",
      "✓ Index 'course-questions' is ready to use!\n"
     ]
    }
   ],
   "source": [
    "from elasticsearch import Elasticsearch\n",
    "\n",
    "es_client = Elasticsearch('http://localhost:9200')\n",
    "\n",
    "index_settings = {\n",
    "    \"settings\": {\n",
    "        \"number_of_shards\": 1,\n",
    "        \"number_of_replicas\": 0\n",
    "    },\n",
    "    \"mappings\": {\n",
    "        \"properties\": {\n",
    "            \"text\": {\"type\": \"text\"},\n",
    "            \"section\": {\"type\": \"text\"},\n",
    "            \"question\": {\"type\": \"text\"},\n",
    "            \"course\": {\"type\": \"keyword\"},\n",
    "            \"id\": {\"type\": \"text\"}\n",
    "        }\n",
    "    }\n",
    "}\n",
    "\n",
    "index_name = \"course-questions\"\n",
    "\n",
    "# Check if index exists, create if it doesn't\n",
    "if es_client.indices.exists(index=index_name):\n",
    "    print(f\"Index '{index_name}' already exists\")\n",
    "else:\n",
    "    es_client.indices.create(\n",
    "        index=index_name,\n",
    "        settings=index_settings[\"settings\"],\n",
    "        mappings=index_settings[\"mappings\"]\n",
    "    )\n",
    "    print(f\"Index '{index_name}' created successfully!\")\n",
    "\n",
    "# Verify it was created\n",
    "if es_client.indices.exists(index=index_name):\n",
    "    print(f\"✓ Index '{index_name}' is ready to use!\")"
   ]
  },
  {
   "cell_type": "code",
   "execution_count": 5,
   "id": "6e11dfe7-3160-4d08-8256-f547869d6834",
   "metadata": {},
   "outputs": [
    {
     "data": {
      "text/plain": [
       "{'text': \"The purpose of this document is to capture frequently asked technical questions\\nThe exact day and hour of the course will be 15th Jan 2024 at 17h00. The course will start with the first  “Office Hours'' live.1\\nSubscribe to course public Google Calendar (it works from Desktop only).\\nRegister before the course starts using this link.\\nJoin the course Telegram channel with announcements.\\nDon’t forget to register in DataTalks.Club's Slack and join the channel.\",\n",
       " 'section': 'General course-related questions',\n",
       " 'question': 'Course - When will the course start?',\n",
       " 'course': 'data-engineering-zoomcamp'}"
      ]
     },
     "execution_count": 5,
     "metadata": {},
     "output_type": "execute_result"
    }
   ],
   "source": [
    "documents[0]"
   ]
  },
  {
   "cell_type": "code",
   "execution_count": 6,
   "id": "e0753d6b-2034-4687-b8fb-14ab5436cc88",
   "metadata": {},
   "outputs": [],
   "source": [
    "# from tqdm.auto import tqdm\n",
    "\n",
    "# for doc in tqdm(documents):\n",
    "#     es_client.index(index=index_name, document=doc)"
   ]
  },
  {
   "cell_type": "code",
   "execution_count": 7,
   "id": "283e778b-9300-4568-b58c-7c096b5d5469",
   "metadata": {},
   "outputs": [],
   "source": [
    "def elastic_search(query):\n",
    "    search_query = {\n",
    "        \"size\": 3,\n",
    "        \"query\": {\n",
    "            \"bool\": {\n",
    "                \"must\": {\n",
    "                    \"multi_match\": {\n",
    "                        \"query\": query,\n",
    "                        \"fields\": [\"question^4\", \"text\"],\n",
    "                        \"type\": \"best_fields\"\n",
    "                    }\n",
    "                },\n",
    "                \"filter\": {\n",
    "                    \"term\": {\n",
    "                        \"course\": \"machine-learning-zoomcamp\"\n",
    "                    }\n",
    "                }\n",
    "            }\n",
    "        }\n",
    "    }\n",
    "    \n",
    "    response = es_client.search(index=index_name, body=search_query)\n",
    "    \n",
    "    result_docs = []\n",
    "    \n",
    "    for hit in response['hits']['hits']:\n",
    "        doc_with_score = hit['_source'].copy()\n",
    "        doc_with_score['_score'] = hit['_score']\n",
    "        result_docs.append(doc_with_score)\n",
    "    \n",
    "    return result_docs"
   ]
  },
  {
   "cell_type": "code",
   "execution_count": 8,
   "id": "0bb6c634-47fa-4b95-b1f3-6d5c217efbc3",
   "metadata": {},
   "outputs": [],
   "source": [
    "query = \"How to copy a file to a Docker container?\""
   ]
  },
  {
   "cell_type": "code",
   "execution_count": 9,
   "id": "37f7454e-cb04-4830-8784-6c86e88fe0ef",
   "metadata": {},
   "outputs": [
    {
     "data": {
      "text/plain": [
       "{'text': 'Launch the container image in interactive mode and overriding the entrypoint, so that it starts a bash command.\\ndocker run -it --entrypoint bash <image>\\nIf the container is already running, execute a command in the specific container:\\ndocker ps (find the container-id)\\ndocker exec -it <container-id> bash\\n(Marcos MJD)',\n",
       " 'section': '5. Deploying Machine Learning Models',\n",
       " 'question': 'How do I debug a docker container?',\n",
       " 'course': 'machine-learning-zoomcamp',\n",
       " '_score': 60.077137}"
      ]
     },
     "execution_count": 9,
     "metadata": {},
     "output_type": "execute_result"
    }
   ],
   "source": [
    "search_results = elastic_search(query)\n",
    "search_results[2]"
   ]
  },
  {
   "cell_type": "code",
   "execution_count": 10,
   "id": "f6ca7866-0151-4cd6-9238-7daaa7904652",
   "metadata": {},
   "outputs": [],
   "source": [
    "def build_prompt(query, search_results):\n",
    "    prompt_template = \"\"\"\n",
    "You're a course teaching assistant. Answer the QUESTION based on the CONTEXT from the FAQ database.\n",
    "Use only the facts from the CONTEXT when answering the QUESTION.\n",
    "QUESTION: {question}\n",
    "CONTEXT: \n",
    "{context}\n",
    "\"\"\".strip()\n",
    "    \n",
    "    context = \"\"\n",
    "    \n",
    "    for doc in search_results:\n",
    "        context += f\"Q: {doc['question']}\\nA: {doc['text']}\\n\\n\"\n",
    "    \n",
    "    prompt = prompt_template.format(question=query, context=context).strip()\n",
    "    return prompt"
   ]
  },
  {
   "cell_type": "code",
   "execution_count": 11,
   "id": "8fb3e94f-0f7b-44e8-829f-42d57ee55385",
   "metadata": {},
   "outputs": [
    {
     "data": {
      "text/plain": [
       "1459"
      ]
     },
     "execution_count": 11,
     "metadata": {},
     "output_type": "execute_result"
    }
   ],
   "source": [
    "prompt = build_prompt(query, search_results)\n",
    "len(prompt)"
   ]
  },
  {
   "cell_type": "code",
   "execution_count": 12,
   "id": "2bf874d0-ca05-4339-8ca0-ea60f88ac022",
   "metadata": {},
   "outputs": [],
   "source": [
    "import openai\n",
    "from openai import OpenAI\n",
    "\n",
    "client = OpenAI()\n",
    "\n",
    "def llm_1(prompt):\n",
    "    response_1 = client.chat.completions.create(\n",
    "        model='gpt-4o',\n",
    "        messages=[{\"role\": \"user\", \"content\": prompt}]\n",
    "    )\n",
    "    \n",
    "    return response_1.choices[0].message.content"
   ]
  },
  {
   "cell_type": "code",
   "execution_count": 13,
   "id": "ef147426-30d6-4dfe-90da-131706c0d571",
   "metadata": {},
   "outputs": [
    {
     "data": {
      "text/plain": [
       "323"
      ]
     },
     "execution_count": 13,
     "metadata": {},
     "output_type": "execute_result"
    }
   ],
   "source": [
    "import tiktoken\n",
    "\n",
    "token_count = len(tiktoken.encoding_for_model(\"gpt-4o\").encode(prompt))\n",
    "token_count"
   ]
  },
  {
   "cell_type": "code",
   "execution_count": 14,
   "id": "b6d3e4ec-b07c-4796-82b0-7f1629e87ead",
   "metadata": {},
   "outputs": [],
   "source": [
    "import google.generativeai as genai\n",
    "\n",
    "def llm_2(prompt):\n",
    "    genai.configure(api_key=os.environ[\"GOOGLE_API_KEY\"])\n",
    "    response_2 = genai.GenerativeModel('gemini-1.5-flash-latest').generate_content(prompt)\n",
    "    return response_2.text"
   ]
  },
  {
   "cell_type": "code",
   "execution_count": 15,
   "id": "b9b6b33d-4d63-40b2-80ae-5c1a60c1f4fe",
   "metadata": {},
   "outputs": [],
   "source": [
    "def rag_1(query):\n",
    "    search_results = elastic_search(query)\n",
    "    prompt = build_prompt(query, search_results)\n",
    "    answer_1 = llm_1(prompt)\n",
    "    return answer_1"
   ]
  },
  {
   "cell_type": "code",
   "execution_count": 16,
   "id": "06072fcc-deec-42e9-b08e-381d231a5dbc",
   "metadata": {},
   "outputs": [],
   "source": [
    "def rag_2(query):\n",
    "    search_results = elastic_search(query)\n",
    "    prompt = build_prompt(query, search_results)\n",
    "    answer_2 = llm_2(prompt)\n",
    "    return answer_2"
   ]
  },
  {
   "cell_type": "code",
   "execution_count": 17,
   "id": "e5ccdd9d-149f-4629-a568-39ecc151afc1",
   "metadata": {},
   "outputs": [
    {
     "data": {
      "text/plain": [
       "'To copy a file to a Docker container, you can use the `docker cp` command. The basic syntax is:\\n\\n```bash\\ndocker cp /path/to/local/file_or_directory container_id:/path/in/container\\n```\\n\\nThis command allows you to transfer files or directories from your local machine into a running Docker container.'"
      ]
     },
     "execution_count": 17,
     "metadata": {},
     "output_type": "execute_result"
    }
   ],
   "source": [
    "rag_1(query)"
   ]
  },
  {
   "cell_type": "code",
   "execution_count": 18,
   "id": "c62c4290-dee2-44b3-af33-506ff2ce0455",
   "metadata": {},
   "outputs": [
    {
     "data": {
      "text/plain": [
       "'To copy a file or directory from your local machine to a running Docker container, use the `docker cp` command.  The syntax is:  `docker cp /path/to/local/file_or_directory container_id:/path/in/container`\\n'"
      ]
     },
     "execution_count": 18,
     "metadata": {},
     "output_type": "execute_result"
    }
   ],
   "source": [
    "rag_2(query)"
   ]
  },
  {
   "cell_type": "code",
   "execution_count": null,
   "id": "bd6e163b-96fc-4ce7-848c-1ab421c9b7f5",
   "metadata": {},
   "outputs": [],
   "source": []
  }
 ],
 "metadata": {
  "kernelspec": {
   "display_name": "Python 3 (ipykernel)",
   "language": "python",
   "name": "python3"
  },
  "language_info": {
   "codemirror_mode": {
    "name": "ipython",
    "version": 3
   },
   "file_extension": ".py",
   "mimetype": "text/x-python",
   "name": "python",
   "nbconvert_exporter": "python",
   "pygments_lexer": "ipython3",
   "version": "3.12.1"
  }
 },
 "nbformat": 4,
 "nbformat_minor": 5
}
