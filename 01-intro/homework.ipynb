{
 "cells": [
  {
   "cell_type": "code",
   "execution_count": 1,
   "id": "607d6fdf-5e89-4914-88dd-873e53157097",
   "metadata": {},
   "outputs": [],
   "source": [
    "import openai"
   ]
  },
  {
   "cell_type": "code",
   "execution_count": 2,
   "id": "5bcd6ef3-6cf1-46d8-82c1-47814aa6781d",
   "metadata": {},
   "outputs": [],
   "source": [
    "from openai import OpenAI"
   ]
  },
  {
   "cell_type": "code",
   "execution_count": 4,
   "id": "52951e51-6614-4b9c-85f7-7c9344cd3092",
   "metadata": {},
   "outputs": [],
   "source": [
    "client = OpenAI()"
   ]
  },
  {
   "cell_type": "code",
   "execution_count": 5,
   "id": "c9735c58-11d7-487d-b6c5-d3c19e994d3a",
   "metadata": {},
   "outputs": [],
   "source": [
    "import os"
   ]
  },
  {
   "cell_type": "code",
   "execution_count": 11,
   "id": "9dbb0ac8-b8a4-4076-a4ed-729719cd4bfd",
   "metadata": {},
   "outputs": [],
   "source": [
    "response = client.chat.completions.create(\n",
    "    model='gpt-4o',\n",
    "    messages=[{\"role\": \"user\", \"content\": \"is it too late to join the course?\"}]\n",
    ")"
   ]
  },
  {
   "cell_type": "code",
   "execution_count": 12,
   "id": "eb349817-1b8a-4170-90f6-a56dc1443bbc",
   "metadata": {},
   "outputs": [
    {
     "data": {
      "text/plain": [
       "\"To provide a helpful answer, I would need more information about the specific course you're referring to, such as the enrollment deadlines, start date, and the institution or platform offering it. Generally, it's best to check the course webpage or contact the course provider directly to get the most accurate information regarding enrollment deadlines and any possibilities for late registration. If you're considering joining after the course has started, check if they allow latecomers and if there are any prerequisites you might need to catch up on.\""
      ]
     },
     "execution_count": 12,
     "metadata": {},
     "output_type": "execute_result"
    }
   ],
   "source": [
    "response.choices[0].message.content"
   ]
  }
 ],
 "metadata": {
  "kernelspec": {
   "display_name": "Python 3 (ipykernel)",
   "language": "python",
   "name": "python3"
  },
  "language_info": {
   "codemirror_mode": {
    "name": "ipython",
    "version": 3
   },
   "file_extension": ".py",
   "mimetype": "text/x-python",
   "name": "python",
   "nbconvert_exporter": "python",
   "pygments_lexer": "ipython3",
   "version": "3.12.1"
  }
 },
 "nbformat": 4,
 "nbformat_minor": 5
}
