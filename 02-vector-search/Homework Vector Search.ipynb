{
 "cells": [
  {
   "cell_type": "code",
   "execution_count": 1,
   "id": "663ec754-1bf8-461d-8759-814f481fb9c5",
   "metadata": {},
   "outputs": [],
   "source": [
    "from fastembed import TextEmbedding"
   ]
  },
  {
   "cell_type": "code",
   "execution_count": 3,
   "id": "aa6b249f-d625-4013-ab14-34028e5c2065",
   "metadata": {},
   "outputs": [],
   "source": [
    "from qdrant_client import QdrantClient, models"
   ]
  },
  {
   "cell_type": "code",
   "execution_count": 4,
   "id": "5b6ba11f-41c6-49d7-9c5f-f90f28abdfb1",
   "metadata": {},
   "outputs": [],
   "source": [
    "client = QdrantClient(\"http://localhost:6333\") #connecting to local Qdrant instance"
   ]
  },
  {
   "cell_type": "code",
   "execution_count": 5,
   "id": "3ce389d7-db85-4939-92a2-dc216b21f86f",
   "metadata": {},
   "outputs": [],
   "source": [
    "import requests\n",
    "\n",
    "docs_url = 'https://github.com/alexeygrigorev/llm-rag-workshop/raw/main/notebooks/documents.json'\n",
    "docs_response = requests.get(docs_url)\n",
    "documents_raw = docs_response.json()"
   ]
  },
  {
   "cell_type": "code",
   "execution_count": 1,
   "id": "11dace7b-749e-4d81-bee9-8eb1bc172c55",
   "metadata": {},
   "outputs": [],
   "source": [
    "# documents_raw"
   ]
  },
  {
   "cell_type": "code",
   "execution_count": 8,
   "id": "b13db07a-385c-4bb5-856e-58a75e1417eb",
   "metadata": {},
   "outputs": [],
   "source": [
    "from fastembed import TextEmbedding"
   ]
  },
  {
   "cell_type": "code",
   "execution_count": 10,
   "id": "5d424b7c-c9a0-400a-b335-83aa745925d3",
   "metadata": {},
   "outputs": [],
   "source": [
    "model_handle = \"jinaai/jina-embeddings-v2-small-en\""
   ]
  },
  {
   "cell_type": "code",
   "execution_count": 28,
   "id": "35e55c94-5318-4f0a-b945-ba9ecb48c225",
   "metadata": {},
   "outputs": [],
   "source": [
    "def search(query, limit=1):\n",
    "\n",
    "    results = client.query_points(\n",
    "        collection_name=collection_name,\n",
    "        query=models.Document( #embed the query text locally with \"jinaai/jina-embeddings-v2-small-en\"\n",
    "            text=query,\n",
    "            model=model_handle \n",
    "        ),\n",
    "        limit=limit, # top closest matches\n",
    "        with_payload=True, #to get metadata in the results\n",
    "        with_vectors=True\n",
    "    )\n",
    "\n",
    "    return results"
   ]
  },
  {
   "cell_type": "code",
   "execution_count": 81,
   "id": "6aa37152-a563-4774-968d-7c9281eeb7cc",
   "metadata": {},
   "outputs": [],
   "source": [
    "q1 = 'I just discovered the course. Can I join now?'"
   ]
  },
  {
   "cell_type": "code",
   "execution_count": 95,
   "id": "0e5ddf98-dea3-4eb5-9ddb-a7aed82d3672",
   "metadata": {},
   "outputs": [],
   "source": [
    "a1 = search(q1)\n",
    "a1_ans = a1.points[0].payload['text']\n",
    "a1_vector = a1.points[0].vector # np.array of 512 floats\n",
    "a1_min_value = np.min(a1_vector)\n",
    "a1_cos_sim = np.linalg.norm(a1_vector)"
   ]
  },
  {
   "cell_type": "code",
   "execution_count": 97,
   "id": "20a8f2e8-4a0d-40d4-8aac-fe10831c3326",
   "metadata": {},
   "outputs": [
    {
     "data": {
      "text/plain": [
       "np.float64(-0.10889833)"
      ]
     },
     "execution_count": 97,
     "metadata": {},
     "output_type": "execute_result"
    }
   ],
   "source": [
    "a1_min_value"
   ]
  },
  {
   "cell_type": "code",
   "execution_count": 137,
   "id": "50e8f44e-8b38-4b76-b1e9-06d493a5799d",
   "metadata": {},
   "outputs": [],
   "source": [
    "# q2\n",
    "q2 = 'Can I still join the course after the start date?'"
   ]
  },
  {
   "cell_type": "code",
   "execution_count": 103,
   "id": "b8ffd30d-678d-47e8-ac35-a3e1f4de5878",
   "metadata": {},
   "outputs": [],
   "source": [
    "a2 = search(q2)\n",
    "a2_ans = a2.points[0].payload['text']\n",
    "a2_vector = a2.points[0].vector # np.array of 512 floats\n",
    "a2_min_value = np.min(a2_vector)\n",
    "a2_cos_sim = np.linalg.norm(a2_vector)"
   ]
  },
  {
   "cell_type": "code",
   "execution_count": 128,
   "id": "bda1be63-09aa-414b-affc-8bbe2616e347",
   "metadata": {},
   "outputs": [
    {
     "name": "stdout",
     "output_type": "stream",
     "text": [
      "0.9008528895674548\n"
     ]
    }
   ],
   "source": [
    "import numpy as np\n",
    "\n",
    "# Initialize the embedding model\n",
    "model = TextEmbedding(model_handle)\n",
    "\n",
    "# Embed query (from q1)\n",
    "q = next(model.embed([q1]))\n",
    "\n",
    "# Embed document (q2)\n",
    "d = next(model.embed([q2]))\n",
    "\n",
    "# Calculate cosine similarity using dot product\n",
    "cosine_similarity = q.dot(d)\n",
    "print(cosine_similarity)"
   ]
  },
  {
   "cell_type": "code",
   "execution_count": 138,
   "id": "92007632-bc95-473b-a2f6-f5738ad114a6",
   "metadata": {},
   "outputs": [],
   "source": [
    "# Q3\n",
    "documents = [{'text': \"Yes, even if you don't register, you're still eligible to submit the homeworks.\\nBe aware, however, that there will be deadlines for turning in the final projects. So don't leave everything for the last minute.\",\n",
    "  'section': 'General course-related questions',\n",
    "  'question': 'Course - Can I still join the course after the start date?',\n",
    "  'course': 'data-engineering-zoomcamp'},\n",
    " {'text': 'Yes, we will keep all the materials after the course finishes, so you can follow the course at your own pace after it finishes.\\nYou can also continue looking at the homeworks and continue preparing for the next cohort. I guess you can also start working on your final capstone project.',\n",
    "  'section': 'General course-related questions',\n",
    "  'question': 'Course - Can I follow the course after it finishes?',\n",
    "  'course': 'data-engineering-zoomcamp'},\n",
    " {'text': \"The purpose of this document is to capture frequently asked technical questions\\nThe exact day and hour of the course will be 15th Jan 2024 at 17h00. The course will start with the first  “Office Hours'' live.1\\nSubscribe to course public Google Calendar (it works from Desktop only).\\nRegister before the course starts using this link.\\nJoin the course Telegram channel with announcements.\\nDon’t forget to register in DataTalks.Club's Slack and join the channel.\",\n",
    "  'section': 'General course-related questions',\n",
    "  'question': 'Course - When will the course start?',\n",
    "  'course': 'data-engineering-zoomcamp'},\n",
    " {'text': 'You can start by installing and setting up all the dependencies and requirements:\\nGoogle cloud account\\nGoogle Cloud SDK\\nPython 3 (installed with Anaconda)\\nTerraform\\nGit\\nLook over the prerequisites and syllabus to see if you are comfortable with these subjects.',\n",
    "  'section': 'General course-related questions',\n",
    "  'question': 'Course - What can I do before the course starts?',\n",
    "  'course': 'data-engineering-zoomcamp'},\n",
    " {'text': 'Star the repo! Share it with friends if you find it useful ❣️\\nCreate a PR if you see you can improve the text or the structure of the repository.',\n",
    "  'section': 'General course-related questions',\n",
    "  'question': 'How can we contribute to the course?',\n",
    "  'course': 'data-engineering-zoomcamp'}]"
   ]
  },
  {
   "cell_type": "code",
   "execution_count": 140,
   "id": "84fcafb9-4cb9-41e9-a7f5-6b7c199c4c08",
   "metadata": {},
   "outputs": [
    {
     "name": "stdout",
     "output_type": "stream",
     "text": [
      "Document index with highest similarity: 1\n",
      "Similarity score: 0.8182378156620135\n"
     ]
    }
   ],
   "source": [
    "# Same embedding model\n",
    "model = model\n",
    "\n",
    "# Embed the query (from Q1)\n",
    "q = q\n",
    "\n",
    "# Extract text fields from documents\n",
    "texts = [doc['text'] for doc in documents]\n",
    "\n",
    "# Embed all document texts\n",
    "doc_embeddings = list(model.embed(texts))\n",
    "\n",
    "# Convert to numpy array for easier manipulation\n",
    "V = np.array(doc_embeddings)\n",
    "\n",
    "# Calculate cosine similarities using matrix multiplication\n",
    "similarities = V.dot(q)\n",
    "\n",
    "# Find the index with highest similarity\n",
    "best_index = np.argmax(similarities)\n",
    "print(f\"Document index with highest similarity: {best_index}\")\n",
    "print(f\"Similarity score: {similarities[best_index]}\")"
   ]
  },
  {
   "cell_type": "code",
   "execution_count": 141,
   "id": "a00250d5-5751-4f85-af5e-8d43989b1cb5",
   "metadata": {},
   "outputs": [
    {
     "name": "stdout",
     "output_type": "stream",
     "text": [
      "Document index with highest similarity: 0\n",
      "Similarity score: 0.851454319443226\n",
      "Document 0: 0.8515\n",
      "Document 1: 0.8437\n",
      "Document 2: 0.8408\n",
      "Document 3: 0.7755\n",
      "Document 4: 0.8086\n"
     ]
    }
   ],
   "source": [
    "# Q4\n",
    "\n",
    "# Create full_text by concatenating question and text\n",
    "full_texts = []\n",
    "for doc in documents:\n",
    "    full_text = doc['question'] + ' ' + doc['text']\n",
    "    full_texts.append(full_text)\n",
    "\n",
    "# Embed all full_text fields\n",
    "doc_embeddings = list(model.embed(full_texts))\n",
    "\n",
    "# Convert to numpy array for matrix operations\n",
    "V = np.array(doc_embeddings)\n",
    "\n",
    "# Calculate cosine similarities using matrix multiplication\n",
    "similarities = V.dot(q)\n",
    "\n",
    "# Find the index with highest similarity\n",
    "best_index = np.argmax(similarities)\n",
    "print(f\"Document index with highest similarity: {best_index}\")\n",
    "print(f\"Similarity score: {similarities[best_index]}\")\n",
    "\n",
    "# Optional: print all similarities to see the ranking\n",
    "for i, sim in enumerate(similarities):\n",
    "    print(f\"Document {i}: {sim:.4f}\")"
   ]
  },
  {
   "cell_type": "markdown",
   "id": "9aa1ebee-02ea-4ea7-9fdf-9164116df827",
   "metadata": {},
   "source": [
    "The answers are different between Q3 and Q4 because different content in each question is embedded, in Q3: Only text field, while in Q4: question + text combined. This changes the semantic meaning and similarity scores. Very broadly speaking, more relevant context will generally lead to better retrieval accuracy."
   ]
  },
  {
   "cell_type": "code",
   "execution_count": 149,
   "id": "1d1c59d3-0712-4adf-9690-1ac420224edc",
   "metadata": {},
   "outputs": [
    {
     "data": {
      "text/plain": [
       "384"
      ]
     },
     "execution_count": 149,
     "metadata": {},
     "output_type": "execute_result"
    }
   ],
   "source": [
    "# Q5\n",
    "import json\n",
    "\n",
    "smallest_model = min(TextEmbedding.list_supported_models(), key=lambda m: m[\"dim\"])\n",
    "smallest_model['dim']"
   ]
  },
  {
   "cell_type": "code",
   "execution_count": 2,
   "id": "935e4f60-a587-41f8-8e9d-6d56526e1434",
   "metadata": {},
   "outputs": [],
   "source": [
    "# Q6"
   ]
  },
  {
   "cell_type": "code",
   "execution_count": 3,
   "id": "23dd0df2-18d4-43a4-a289-474cf40dbb6c",
   "metadata": {},
   "outputs": [],
   "source": [
    "from qdrant_client import QdrantClient, models"
   ]
  },
  {
   "cell_type": "code",
   "execution_count": 4,
   "id": "c059974c-caef-460c-b734-af077cd26548",
   "metadata": {},
   "outputs": [],
   "source": [
    "from fastembed import TextEmbedding"
   ]
  },
  {
   "cell_type": "code",
   "execution_count": 5,
   "id": "f904f17b-d078-4ef7-8175-2ba62d588ddb",
   "metadata": {},
   "outputs": [],
   "source": [
    "client = QdrantClient(\"http://localhost:6333\") #connecting to local Qdrant instance"
   ]
  },
  {
   "cell_type": "code",
   "execution_count": 6,
   "id": "ec3037e4-2adf-4abd-94fe-778dabcdf29c",
   "metadata": {},
   "outputs": [],
   "source": [
    "import requests \n",
    "\n",
    "docs_url = 'https://github.com/alexeygrigorev/llm-rag-workshop/raw/main/notebooks/documents.json'\n",
    "docs_response = requests.get(docs_url)\n",
    "documents_raw = docs_response.json()\n",
    "\n",
    "\n",
    "documents = []\n",
    "\n",
    "for course in documents_raw:\n",
    "    course_name = course['course']\n",
    "    if course_name != 'machine-learning-zoomcamp':\n",
    "        continue\n",
    "\n",
    "    for doc in course['documents']:\n",
    "        doc['course'] = course_name\n",
    "        documents.append(doc)"
   ]
  },
  {
   "cell_type": "code",
   "execution_count": 7,
   "id": "1d6f19e7-6a4a-42ff-8c5a-65c2bf0f12b7",
   "metadata": {},
   "outputs": [],
   "source": [
    "model_handle = \"BAAI/bge-small-en\"\n",
    "EMBEDDING_DIMENSIONALITY = 384"
   ]
  },
  {
   "cell_type": "code",
   "execution_count": null,
   "id": "5b55d350-1453-40d0-82dd-354fde5edddf",
   "metadata": {},
   "outputs": [],
   "source": [
    "# Define the collection name\n",
    "collection_name = \"vector-search-q6\"\n",
    "\n",
    "# Create the collection with specified vector parameters\n",
    "client.create_collection(\n",
    "    collection_name=collection_name,\n",
    "    vectors_config=models.VectorParams(\n",
    "        size=EMBEDDING_DIMENSIONALITY,  # Dimensionality of the vectors\n",
    "        distance=models.Distance.COSINE  # Distance metric for similarity search\n",
    "    )\n",
    ")"
   ]
  },
  {
   "cell_type": "code",
   "execution_count": 9,
   "id": "0d47969c-e7fc-48bc-9916-b0f8049cdbc6",
   "metadata": {},
   "outputs": [],
   "source": [
    "points = []\n",
    "id = 0\n",
    "for doc in documents:\n",
    "    # Combine question and answer fields as specified\n",
    "    text = doc['question'] + ' ' + doc['text']\n",
    "    \n",
    "    point = models.PointStruct(\n",
    "        id=id,\n",
    "        vector=models.Document(text=text, model=model_handle), # embed text locally with \"BAAI/bge-small-en\" from FastEmbed\n",
    "        payload={\n",
    "            \"text\": text,\n",
    "            \"section\": doc['section'],\n",
    "            \"course\": doc['course']\n",
    "        } # save all needed metadata fields\n",
    "    )\n",
    "    points.append(point)\n",
    "    id += 1"
   ]
  },
  {
   "cell_type": "code",
   "execution_count": 10,
   "id": "74b22d7e-5607-4909-a8c7-c8b0ce9b5b0c",
   "metadata": {},
   "outputs": [
    {
     "data": {
      "text/plain": [
       "UpdateResult(operation_id=0, status=<UpdateStatus.COMPLETED: 'completed'>)"
      ]
     },
     "execution_count": 10,
     "metadata": {},
     "output_type": "execute_result"
    }
   ],
   "source": [
    "client.upsert(\n",
    "    collection_name=collection_name,\n",
    "    points=points\n",
    ")"
   ]
  },
  {
   "cell_type": "code",
   "execution_count": 11,
   "id": "e0c8be56-4d0e-46d7-b46d-f35aa4ff8703",
   "metadata": {},
   "outputs": [],
   "source": [
    "def search(query, limit=1):\n",
    "\n",
    "    results = client.query_points(\n",
    "        collection_name=collection_name,\n",
    "        query=models.Document( #embed the query text locally with \"jinaai/jina-embeddings-v2-small-en\"\n",
    "            text=query,\n",
    "            model=model_handle \n",
    "        ),\n",
    "        limit=limit, # top closest matches\n",
    "        with_payload=True #to get metadata in the results\n",
    "    )\n",
    "\n",
    "    return results"
   ]
  },
  {
   "cell_type": "code",
   "execution_count": 13,
   "id": "6008bdf6-2ce2-4841-9bf0-3dc27da46c4b",
   "metadata": {},
   "outputs": [],
   "source": [
    "q6 = 'I just discovered the course. Can I join now?'"
   ]
  },
  {
   "cell_type": "code",
   "execution_count": 23,
   "id": "801c93c4-ddef-4601-a13f-db0596a19488",
   "metadata": {},
   "outputs": [
    {
     "data": {
      "text/plain": [
       "0.87031734"
      ]
     },
     "execution_count": 23,
     "metadata": {},
     "output_type": "execute_result"
    }
   ],
   "source": [
    "a6 = search(q6)\n",
    "# a6_ans = a6.points[0].payload['text']\n",
    "# a6_vector = a6.points[0].vector # np.array of 512 floats\n",
    "# a6_min_value = np.min(a6_vector)\n",
    "# a6_cos_sim = np.linalg.norm(a6_vector)\n",
    "a6.points[0].score"
   ]
  }
 ],
 "metadata": {
  "kernelspec": {
   "display_name": "Python 3",
   "language": "python",
   "name": "python3"
  },
  "language_info": {
   "codemirror_mode": {
    "name": "ipython",
    "version": 3
   },
   "file_extension": ".py",
   "mimetype": "text/x-python",
   "name": "python",
   "nbconvert_exporter": "python",
   "pygments_lexer": "ipython3",
   "version": "3.12.1"
  }
 },
 "nbformat": 4,
 "nbformat_minor": 5
}
