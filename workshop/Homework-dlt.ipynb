{
 "cells": [
  {
   "cell_type": "code",
   "execution_count": 1,
   "id": "725ee3d0-cfec-4d0c-b93e-bc750b591e72",
   "metadata": {},
   "outputs": [],
   "source": [
    "!pip install -q \"dlt[qdrant]\" \"qdrant-client[fastembed]\""
   ]
  },
  {
   "cell_type": "code",
   "execution_count": 2,
   "id": "4f2021c9-5986-4d32-a8e0-9ef51a0820ea",
   "metadata": {
    "scrolled": true
   },
   "outputs": [
    {
     "name": "stdout",
     "output_type": "stream",
     "text": [
      "Name: dlt\n",
      "Version: 1.13.0\n",
      "Summary: dlt is an open-source python-first scalable data loading library that does not require any backend to run.\n",
      "Home-page: https://github.com/dlt-hub\n",
      "Author: \n",
      "Author-email: \"dltHub Inc.\" <services@dlthub.com>\n",
      "License-Expression: Apache-2.0\n",
      "Location: /usr/local/python/3.12.1/lib/python3.12/site-packages\n",
      "Requires: click, fsspec, gitpython, giturlparse, hexbytes, humanize, jsonpath-ng, orjson, packaging, pathvalidate, pendulum, pluggy, pytz, pyyaml, requests, requirements-parser, rich-argparse, semver, setuptools, simplejson, sqlglot, tenacity, tomlkit, typing-extensions, tzdata\n",
      "Required-by: \n"
     ]
    }
   ],
   "source": [
    "!pip show dlt"
   ]
  },
  {
   "cell_type": "code",
   "execution_count": 3,
   "id": "2c8f7dca-4c97-43c0-8074-47d4a990deae",
   "metadata": {},
   "outputs": [],
   "source": [
    "import dlt\n",
    "import requests\n",
    "from dlt.destinations import qdrant"
   ]
  },
  {
   "cell_type": "code",
   "execution_count": 4,
   "id": "53bea0ad-a1ff-482c-aff0-aa7799e8d3e1",
   "metadata": {},
   "outputs": [],
   "source": [
    "@dlt.resource\n",
    "def zoomcamp_data():\n",
    "    \"\"\"\n",
    "    Reads FAQ data from a remote JSON file.\n",
    "    \"\"\"\n",
    "    docs_url = 'https://github.com/alexeygrigorev/llm-rag-workshop/raw/main/notebooks/documents.json'\n",
    "    docs_response = requests.get(docs_url)\n",
    "    documents_raw = docs_response.json()\n",
    "\n",
    "    for course in documents_raw:\n",
    "        course_name = course['course']\n",
    "\n",
    "        for doc in course['documents']:\n",
    "            doc['course'] = course_name\n",
    "            yield doc"
   ]
  },
  {
   "cell_type": "code",
   "execution_count": 5,
   "id": "e22e1ccf-7d0a-47e3-9754-959c3e698cf7",
   "metadata": {},
   "outputs": [],
   "source": [
    "qdrant_destination = qdrant(\n",
    "  qd_path=\"db.qdrant\",\n",
    ")"
   ]
  },
  {
   "cell_type": "code",
   "execution_count": 6,
   "id": "1ede1d8f-5535-49f8-afce-68e908d90312",
   "metadata": {},
   "outputs": [
    {
     "data": {
      "application/vnd.jupyter.widget-view+json": {
       "model_id": "22b06af39a3d4374a4bc1a092d527b69",
       "version_major": 2,
       "version_minor": 0
      },
      "text/plain": [
       "Fetching 5 files:   0%|          | 0/5 [00:00<?, ?it/s]"
      ]
     },
     "metadata": {},
     "output_type": "display_data"
    },
    {
     "data": {
      "application/vnd.jupyter.widget-view+json": {
       "model_id": "9b0e4becb1ce4e788c2eea206dc4e783",
       "version_major": 2,
       "version_minor": 0
      },
      "text/plain": [
       "config.json:   0%|          | 0.00/701 [00:00<?, ?B/s]"
      ]
     },
     "metadata": {},
     "output_type": "display_data"
    },
    {
     "data": {
      "application/vnd.jupyter.widget-view+json": {
       "model_id": "c6df66c0b5fc46b190907c53add03169",
       "version_major": 2,
       "version_minor": 0
      },
      "text/plain": [
       "tokenizer_config.json:   0%|          | 0.00/366 [00:00<?, ?B/s]"
      ]
     },
     "metadata": {},
     "output_type": "display_data"
    },
    {
     "data": {
      "application/vnd.jupyter.widget-view+json": {
       "model_id": "5adff722f37e40bbbebf6339c33a49f6",
       "version_major": 2,
       "version_minor": 0
      },
      "text/plain": [
       "tokenizer.json: 0.00B [00:00, ?B/s]"
      ]
     },
     "metadata": {},
     "output_type": "display_data"
    },
    {
     "data": {
      "application/vnd.jupyter.widget-view+json": {
       "model_id": "bb91019c8fd2406daaedf3d6c65693e6",
       "version_major": 2,
       "version_minor": 0
      },
      "text/plain": [
       "special_tokens_map.json:   0%|          | 0.00/125 [00:00<?, ?B/s]"
      ]
     },
     "metadata": {},
     "output_type": "display_data"
    },
    {
     "data": {
      "application/vnd.jupyter.widget-view+json": {
       "model_id": "16315843fd794f929b3401df21cb3a98",
       "version_major": 2,
       "version_minor": 0
      },
      "text/plain": [
       "model_optimized.onnx:   0%|          | 0.00/133M [00:00<?, ?B/s]"
      ]
     },
     "metadata": {},
     "output_type": "display_data"
    },
    {
     "name": "stdout",
     "output_type": "stream",
     "text": [
      "Run started at 2025-07-13 15:18:27.118864+00:00 and COMPLETED in 11.27 seconds with 4 steps.\n",
      "Step extract COMPLETED in 0.42 seconds.\n",
      "\n",
      "Load package 1752419913.2056346 is EXTRACTED and NOT YET LOADED to the destination and contains no failed jobs\n",
      "\n",
      "Step normalize COMPLETED in 0.09 seconds.\n",
      "Normalized data for the following tables:\n",
      "- _dlt_pipeline_state: 1 row(s)\n",
      "- zoomcamp_data: 948 row(s)\n",
      "\n",
      "Load package 1752419913.2056346 is NORMALIZED and NOT YET LOADED to the destination and contains no failed jobs\n",
      "\n",
      "Step load COMPLETED in 4.68 seconds.\n",
      "Pipeline zoomcamp_pipeline load step completed in 4.66 seconds\n",
      "1 load package(s) were loaded to destination qdrant and into dataset zoomcamp_tagged_data\n",
      "The qdrant destination used /workspaces/llm-zoomcamp/workshop/db.qdrant location to store data\n",
      "Load package 1752419913.2056346 is LOADED and contains no failed jobs\n",
      "\n",
      "Step run COMPLETED in 11.27 seconds.\n",
      "Pipeline zoomcamp_pipeline load step completed in 4.66 seconds\n",
      "1 load package(s) were loaded to destination qdrant and into dataset zoomcamp_tagged_data\n",
      "The qdrant destination used /workspaces/llm-zoomcamp/workshop/db.qdrant location to store data\n",
      "Load package 1752419913.2056346 is LOADED and contains no failed jobs\n"
     ]
    }
   ],
   "source": [
    "pipeline = dlt.pipeline(\n",
    "    pipeline_name=\"zoomcamp_pipeline\",\n",
    "    destination=qdrant_destination,\n",
    "    dataset_name=\"zoomcamp_tagged_data\"\n",
    ")\n",
    "\n",
    "load_info = pipeline.run(zoomcamp_data())\n",
    "\n",
    "# Print the trace of the last pipeline run\n",
    "print(pipeline.last_trace)"
   ]
  },
  {
   "cell_type": "code",
   "execution_count": 7,
   "id": "87a4e00d-2c43-47df-99b5-b05832711b84",
   "metadata": {},
   "outputs": [
    {
     "name": "stdout",
     "output_type": "stream",
     "text": [
      "{\"collections\": {\"zoomcamp_tagged_data\": {\"vectors\": {\"fast-bge-small-en\": {\"size\": 384, \"distance\": \"Cosine\", \"hnsw_config\": null, \"quantization_config\": null, \"on_disk\": null, \"datatype\": null, \"multivector_config\": null}}, \"shard_number\": null, \"sharding_method\": null, \"replication_factor\": null, \"write_consistency_factor\": null, \"on_disk_payload\": null, \"hnsw_config\": null, \"wal_config\": null, \"optimizers_config\": null, \"init_from\": null, \"quantization_config\": null, \"sparse_vectors\": null, \"strict_mode_config\": null}, \"zoomcamp_tagged_data__dlt_version\": {\"vectors\": {\"fast-bge-small-en\": {\"size\": 384, \"distance\": \"Cosine\", \"hnsw_config\": null, \"quantization_config\": null, \"on_disk\": null, \"datatype\": null, \"multivector_config\": null}}, \"shard_number\": null, \"sharding_method\": null, \"replication_factor\": null, \"write_consistency_factor\": null, \"on_disk_payload\": null, \"hnsw_config\": null, \"wal_config\": null, \"optimizers_config\": null, \"init_from\": null, \"quantization_config\": null, \"sparse_vectors\": null, \"strict_mode_config\": null}, \"zoomcamp_tagged_data_zoomcamp_data\": {\"vectors\": {\"fast-bge-small-en\": {\"size\": 384, \"distance\": \"Cosine\", \"hnsw_config\": null, \"quantization_config\": null, \"on_disk\": null, \"datatype\": null, \"multivector_config\": null}}, \"shard_number\": null, \"sharding_method\": null, \"replication_factor\": null, \"write_consistency_factor\": null, \"on_disk_payload\": null, \"hnsw_config\": null, \"wal_config\": null, \"optimizers_config\": null, \"init_from\": null, \"quantization_config\": null, \"sparse_vectors\": null, \"strict_mode_config\": null}, \"zoomcamp_tagged_data__dlt_pipeline_state\": {\"vectors\": {\"fast-bge-small-en\": {\"size\": 384, \"distance\": \"Cosine\", \"hnsw_config\": null, \"quantization_config\": null, \"on_disk\": null, \"datatype\": null, \"multivector_config\": null}}, \"shard_number\": null, \"sharding_method\": null, \"replication_factor\": null, \"write_consistency_factor\": null, \"on_disk_payload\": null, \"hnsw_config\": null, \"wal_config\": null, \"optimizers_config\": null, \"init_from\": null, \"quantization_config\": null, \"sparse_vectors\": null, \"strict_mode_config\": null}, \"zoomcamp_tagged_data__dlt_loads\": {\"vectors\": {\"fast-bge-small-en\": {\"size\": 384, \"distance\": \"Cosine\", \"hnsw_config\": null, \"quantization_config\": null, \"on_disk\": null, \"datatype\": null, \"multivector_config\": null}}, \"shard_number\": null, \"sharding_method\": null, \"replication_factor\": null, \"write_consistency_factor\": null, \"on_disk_payload\": null, \"hnsw_config\": null, \"wal_config\": null, \"optimizers_config\": null, \"init_from\": null, \"quantization_config\": null, \"sparse_vectors\": null, \"strict_mode_config\": null}}, \"aliases\": {}}"
     ]
    }
   ],
   "source": [
    "!cat db.qdrant/meta.json"
   ]
  },
  {
   "cell_type": "code",
   "execution_count": 32,
   "id": "231ab6bf-3d00-4689-ab4c-e6f825ee8aa7",
   "metadata": {},
   "outputs": [
    {
     "data": {
      "text/plain": [
       "'fast-bge-small-en'"
      ]
     },
     "execution_count": 32,
     "metadata": {},
     "output_type": "execute_result"
    }
   ],
   "source": [
    "import json\n",
    "\n",
    "embedding_model = list(json.load(open('db.qdrant/meta.json', 'r'))['collections']['zoomcamp_tagged_data_zoomcamp_data']['vectors'].keys())[0]\n",
    "\n",
    "embedding_model"
   ]
  }
 ],
 "metadata": {
  "kernelspec": {
   "display_name": "Python 3 (ipykernel)",
   "language": "python",
   "name": "python3"
  },
  "language_info": {
   "codemirror_mode": {
    "name": "ipython",
    "version": 3
   },
   "file_extension": ".py",
   "mimetype": "text/x-python",
   "name": "python",
   "nbconvert_exporter": "python",
   "pygments_lexer": "ipython3",
   "version": "3.12.1"
  }
 },
 "nbformat": 4,
 "nbformat_minor": 5
}
